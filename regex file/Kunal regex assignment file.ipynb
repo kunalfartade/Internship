{
 "cells": [
  {
   "cell_type": "raw",
   "id": "850dc5c7",
   "metadata": {},
   "source": [
    "Question 1- Write a Python program to replace all occurrences of a space, comma, or dot with a colon."
   ]
  },
  {
   "cell_type": "code",
   "execution_count": 7,
   "id": "d8c83a02",
   "metadata": {},
   "outputs": [
    {
     "name": "stdout",
     "output_type": "stream",
     "text": [
      "my:name:is:kunal:i:am:learninig:data:science::in:data:trained:education:\n"
     ]
    }
   ],
   "source": [
    "import re\n",
    "\n",
    "string = 'my name is kunal.i am learninig data science, in data trained education.'\n",
    "\n",
    "pattern = '\\s|,|\\.'\n",
    "\n",
    "replace = ':'\n",
    "\n",
    "match = re.sub(pattern, replace, string)\n",
    "\n",
    "print(match)"
   ]
  },
  {
   "cell_type": "raw",
   "id": "431323d1",
   "metadata": {},
   "source": [
    "Question 2-  Write a Python program to find all words starting with 'a' or 'e' in a given string."
   ]
  },
  {
   "cell_type": "code",
   "execution_count": 8,
   "id": "5392d9b1",
   "metadata": {},
   "outputs": [
    {
     "name": "stdout",
     "output_type": "stream",
     "text": [
      "['am', 'earning', 'amming', 'anguage']\n"
     ]
    }
   ],
   "source": [
    "string = 'i am learning python programming language'\n",
    "\n",
    "pattern = '[ae][a-z]*'\n",
    "\n",
    "match = re.findall(pattern,string)\n",
    "\n",
    "print(match)"
   ]
  },
  {
   "cell_type": "raw",
   "id": "1052dbcc",
   "metadata": {},
   "source": [
    "Question 3- Create a function in python to find all words that are at least 4 characters long in a string. The use of the re.compile() method is mandatory."
   ]
  },
  {
   "cell_type": "code",
   "execution_count": 9,
   "id": "7bfc8dc6",
   "metadata": {},
   "outputs": [
    {
     "name": "stdout",
     "output_type": "stream",
     "text": [
      "['name', 'kunal', 'learninig', 'data', 'science', 'data', 'trained', 'education']\n"
     ]
    }
   ],
   "source": [
    "import re\n",
    "\n",
    "string = 'my name is kunal.i am learninig data science, in data trained education.'\n",
    "\n",
    "def find_4_char_long(string):\n",
    "    \n",
    "    pattern = re.compile('\\w{4,}')\n",
    "    \n",
    "    result = pattern.findall(string)\n",
    "    \n",
    "    return result\n",
    "a = find_4_char_long(string)\n",
    "\n",
    "print(a)"
   ]
  },
  {
   "cell_type": "raw",
   "id": "50d09978",
   "metadata": {},
   "source": [
    "Question 4- Create a function in python to find all three, four, and five character words in a string. The use of the re.compile() method is mandatory."
   ]
  },
  {
   "cell_type": "code",
   "execution_count": 11,
   "id": "398fcc07",
   "metadata": {},
   "outputs": [
    {
     "name": "stdout",
     "output_type": "stream",
     "text": [
      "['name', 'kunal', 'learn', 'inig', 'data', 'scien', 'and', 'machi', 'learn', 'ing', 'data', 'train', 'educa', 'tion']\n"
     ]
    }
   ],
   "source": [
    "def findall_3_4_5_char(words):\n",
    "    \n",
    "    patt = re.compile('\\w{3,5}')\n",
    "    \n",
    "    result = patt.findall(words)\n",
    "    \n",
    "    return result\n",
    "\n",
    "words = 'my name is kunal.im learninig data science and machine learnin, in data trained education.'\n",
    "\n",
    "ans= findall_3_4_5_char(words)\n",
    "\n",
    "print(ans)"
   ]
  },
  {
   "cell_type": "raw",
   "id": "574ec7ac",
   "metadata": {},
   "source": [
    "Question 5- Create a function in Python to remove the parenthesis in a list of strings. The use of the re.compile() method is mandatory."
   ]
  },
  {
   "cell_type": "code",
   "execution_count": 32,
   "id": "95b00295",
   "metadata": {},
   "outputs": [
    {
     "name": "stdout",
     "output_type": "stream",
     "text": [
      "[\"example \", \"hr@fliprobo \", \"github \", \"Hello \", \"Data \"]\n"
     ]
    }
   ],
   "source": [
    "def remove_parentheses(data):\n",
    "    \n",
    "    pattern = re.compile(r'\\([^)]*\\)')\n",
    "    \n",
    "    cleaned_list = pattern.sub('', data)\n",
    "    \n",
    "    return cleaned_list\n",
    "\n",
    "Sample_Text = '[\"example (.com)\", \"hr@fliprobo (.com)\", \"github (.com)\", \"Hello (Data Science World)\", \"Data (Scientist)\"]'\n",
    "\n",
    "\n",
    "result = remove_parentheses(Sample_Text)\n",
    "\n",
    "print(result)"
   ]
  },
  {
   "cell_type": "raw",
   "id": "d3e24672",
   "metadata": {},
   "source": [
    "Question 6- Write a python program to remove the parenthesis area from the text stored in the text file using Regular Expression."
   ]
  },
  {
   "cell_type": "code",
   "execution_count": 37,
   "id": "065e8a72",
   "metadata": {},
   "outputs": [
    {
     "name": "stdout",
     "output_type": "stream",
     "text": [
      "[\"example\", \"hr@fliprobo\", \"github\", \"Hello\", \"Data\"]\n"
     ]
    }
   ],
   "source": [
    "Sample_Text = '[\"example (.com)\", \"hr@fliprobo (.com)\", \"github (.com)\", \"Hello (Data Science World)\", \"Data (Scientist)\"]'\n",
    "\n",
    "pattern = '\\s\\([^)]*\\)'\n",
    "\n",
    "replace = ''\n",
    "\n",
    "a = re.sub(pattern, replace, Sample_Text)\n",
    "\n",
    "print(a)"
   ]
  },
  {
   "cell_type": "code",
   "execution_count": 40,
   "id": "fc7530d7",
   "metadata": {},
   "outputs": [
    {
     "name": "stdout",
     "output_type": "stream",
     "text": [
      "\"example\", \"hr@fliprobo\", \"github\", \"Hello\", \"Data\"\n"
     ]
    }
   ],
   "source": [
    "with open (\"sample_text.txt\") as file:\n",
    "    for line in file:\n",
    "        \n",
    "        pattern = '\\s\\([^)]*\\)'\n",
    "\n",
    "        replace = ''\n",
    "        \n",
    "        url= re.sub(pattern, replace,line)\n",
    "\n",
    "        print(url)"
   ]
  },
  {
   "cell_type": "raw",
   "id": "b7b8fd20",
   "metadata": {},
   "source": [
    "Question 7- Write a regular expression in Python to split a string into uppercase letters."
   ]
  },
  {
   "cell_type": "code",
   "execution_count": 41,
   "id": "fd1b8e04",
   "metadata": {},
   "outputs": [
    {
     "name": "stdout",
     "output_type": "stream",
     "text": [
      "['', 'Importance', 'Of', 'Regular', 'Expressions', 'In', 'Python']\n"
     ]
    }
   ],
   "source": [
    "Sample_text = 'ImportanceOfRegularExpressionsInPython'\n",
    "pattern = '(?=[A-Z])'\n",
    "result= re.split(pattern, Sample_text)  \n",
    "print(result)"
   ]
  },
  {
   "cell_type": "raw",
   "id": "84303bef",
   "metadata": {},
   "source": [
    "Question 8- Create a function in python to insert spaces between words starting with numbers."
   ]
  },
  {
   "cell_type": "code",
   "execution_count": 46,
   "id": "e0fa9261",
   "metadata": {},
   "outputs": [
    {
     "name": "stdout",
     "output_type": "stream",
     "text": [
      "RegularExpression 1IsAn 2ImportantTopic 3InPython\n"
     ]
    }
   ],
   "source": [
    "def abc(words):\n",
    "    pattern=r'(?<=\\D)(?=\\d)'\n",
    "    replace=' '\n",
    "    xyz=re.sub(pattern,replace,words)\n",
    "    return xyz\n",
    "string=\"RegularExpression1IsAn2ImportantTopic3InPython\"\n",
    "a=abc(string)\n",
    "print(a)\n"
   ]
  },
  {
   "cell_type": "raw",
   "id": "a0a106d7",
   "metadata": {},
   "source": [
    "Question 9- Create a function in python to insert spaces between words starting with capital letters or with numbers."
   ]
  },
  {
   "cell_type": "code",
   "execution_count": 106,
   "id": "8bf7156a",
   "metadata": {},
   "outputs": [
    {
     "name": "stdout",
     "output_type": "stream",
     "text": [
      "Regular Expression 1Is An 2Important Topic 3In Python\n"
     ]
    }
   ],
   "source": [
    "def kkk (alphanumric):\n",
    "    pattern=r'(?<=\\D)(?=[A-Z0-9])'\n",
    "    replace=' '\n",
    "    sss=re.sub(pattern,replace,alphanumric)\n",
    "    return sss\n",
    "string='RegularExpression1IsAn2ImportantTopic3InPython'\n",
    "mlo=kkk(string)\n",
    "print(mlo)"
   ]
  },
  {
   "cell_type": "raw",
   "id": "ddc820d0",
   "metadata": {},
   "source": [
    "Question 10- Write a python program to extract email address from the text stored in the text file using Regular Expression."
   ]
  },
  {
   "cell_type": "code",
   "execution_count": 107,
   "id": "07ae903c",
   "metadata": {},
   "outputs": [
    {
     "name": "stdout",
     "output_type": "stream",
     "text": [
      "['xyz@domain.com', 'xyz.abc@sdomain.domain.com']\n",
      "['hr@fliprobo.com']\n"
     ]
    }
   ],
   "source": [
    "with open ('sample_text2.txt') as file:\n",
    "    for line in file:\n",
    "        pattern=r'[a-zA-Z0-9._%+-]+@[a-zA-Z0-9.-]+\\.[a-zA-Z]{2,}'\n",
    "        url=re.findall(pattern,line)\n",
    "        print(url)"
   ]
  },
  {
   "cell_type": "code",
   "execution_count": 108,
   "id": "2ac0ab49",
   "metadata": {},
   "outputs": [
    {
     "name": "stdout",
     "output_type": "stream",
     "text": [
      "['xyz@domain.com', 'abc@sdomain.domain.com']\n",
      "['hr@fliprobo.com']\n"
     ]
    }
   ],
   "source": [
    "with open ('sample_text2.txt') as file:\n",
    "    for line in file:\n",
    "        pattern=r'[\\w]+@[\\w.]+\\.[\\w_-]{2,3}'\n",
    "        url=re.findall(pattern,line)\n",
    "        print(url)"
   ]
  },
  {
   "cell_type": "code",
   "execution_count": 109,
   "id": "c1fa0b55",
   "metadata": {},
   "outputs": [
    {
     "name": "stdout",
     "output_type": "stream",
     "text": [
      "['www.google7072@.com']\n"
     ]
    }
   ],
   "source": [
    "string='www.google7072@.com'\n",
    "pat=r'[\\w.]+[\\w]+@.[\\w]+'\n",
    "ab=re.findall(pat,string)\n",
    "print(ab)"
   ]
  },
  {
   "cell_type": "raw",
   "id": "5ea364ad",
   "metadata": {},
   "source": [
    "Question 11- Write a Python program to match a string that contains only upper and lowercase letters, numbers, and underscores."
   ]
  },
  {
   "cell_type": "code",
   "execution_count": 112,
   "id": "28d3b275",
   "metadata": {},
   "outputs": [
    {
     "name": "stdout",
     "output_type": "stream",
     "text": [
      "<re.Match object; span=(0, 10), match='Kunal_7072'>\n"
     ]
    }
   ],
   "source": [
    "import re\n",
    "target = 'Kunal_7072   _123_ '\n",
    "\n",
    "pattern = '^[a-zA-Z0-9_]+'\n",
    "\n",
    "print(re.match(pattern, target))"
   ]
  },
  {
   "cell_type": "raw",
   "id": "18393e06",
   "metadata": {},
   "source": [
    "Question 12- Write a Python program where a string will start with a specific number. "
   ]
  },
  {
   "cell_type": "code",
   "execution_count": 114,
   "id": "c8c016df",
   "metadata": {},
   "outputs": [
    {
     "name": "stdout",
     "output_type": "stream",
     "text": [
      "True\n",
      "False\n"
     ]
    }
   ],
   "source": [
    "import re\n",
    "def match_num(string):\n",
    "    text = re.compile(r\"^5\")\n",
    "    if text.match(string):\n",
    "        return True\n",
    "    else:\n",
    "        return False\n",
    "print(match_num('5-2345861'))\n",
    "print(match_num('6-2345861'))"
   ]
  },
  {
   "cell_type": "raw",
   "id": "90e20601",
   "metadata": {},
   "source": [
    "Question 13- Write a Python program to remove leading zeros from an IP address"
   ]
  },
  {
   "cell_type": "code",
   "execution_count": 115,
   "id": "b70381b5",
   "metadata": {},
   "outputs": [
    {
     "name": "stdout",
     "output_type": "stream",
     "text": [
      "192.56.224.981.24\n"
     ]
    }
   ],
   "source": [
    "ip_address = '192.056.224.9801.024'\n",
    "\n",
    "pattern = '[0]'\n",
    "\n",
    "replace = ''\n",
    "\n",
    "print(re.sub(pattern,replace,ip_address))"
   ]
  },
  {
   "cell_type": "raw",
   "id": "e4cb0428",
   "metadata": {},
   "source": [
    "Question 14- Write a regular expression in python to match a date string in the form of Month name followed by day number and year stored in a text file."
   ]
  },
  {
   "cell_type": "code",
   "execution_count": 116,
   "id": "27d409b2",
   "metadata": {},
   "outputs": [
    {
     "name": "stdout",
     "output_type": "stream",
     "text": [
      "['August 15th 1947']\n"
     ]
    }
   ],
   "source": [
    "with open ('sample_text3.txt') as file:\n",
    "    for line in file:\n",
    "        url = re.findall('(?: January|February|March|April|May|June|July|August|September|October|November|December)\\s+\\d{1,2}(?: st|nd|rd|th)\\s\\d{4}',line)\n",
    "        print(url)"
   ]
  },
  {
   "cell_type": "raw",
   "id": "c6dd3966",
   "metadata": {},
   "source": [
    "Question 15- Write a Python program to search some literals strings in a string. "
   ]
  },
  {
   "cell_type": "code",
   "execution_count": 117,
   "id": "d2b3b005",
   "metadata": {},
   "outputs": [
    {
     "name": "stdout",
     "output_type": "stream",
     "text": [
      "['fox', 'dog']\n"
     ]
    }
   ],
   "source": [
    "def find_literals(text, search):\n",
    "    \n",
    "    found_words = []\n",
    "    for words in search:\n",
    "        \n",
    "        if words in text:\n",
    "            \n",
    "            found_words.append(words)\n",
    "    return found_words\n",
    "  \n",
    "text = 'The quick brown fox jumps over the lazy dog.'\n",
    "\n",
    "search = [ 'fox', 'dog', 'horse']\n",
    "\n",
    "\n",
    "found_words = find_literals(text,search)\n",
    "\n",
    "print(found_words)"
   ]
  },
  {
   "cell_type": "code",
   "execution_count": 118,
   "id": "497eb7ec",
   "metadata": {},
   "outputs": [
    {
     "name": "stdout",
     "output_type": "stream",
     "text": [
      "['fox']\n",
      "['dog']\n"
     ]
    }
   ],
   "source": [
    "text = 'The quick brown fox jumps over the lazy dog.'\n",
    "\n",
    "result = re.findall('fox|dog|horse',text)\n",
    "\n",
    "for match in result:\n",
    "    print([match])"
   ]
  },
  {
   "cell_type": "raw",
   "id": "1fc3998a",
   "metadata": {},
   "source": [
    "Question 16- Write a Python program to search a literals string in a string and also find the location within the original string where the pattern occurs\n",
    "\n"
   ]
  },
  {
   "cell_type": "code",
   "execution_count": 119,
   "id": "29c4049d",
   "metadata": {},
   "outputs": [
    {
     "name": "stdout",
     "output_type": "stream",
     "text": [
      "<re.Match object; span=(16, 19), match='fox'>\n"
     ]
    }
   ],
   "source": [
    "text = 'The quick brown fox jumps over the lazy dog.'\n",
    "\n",
    "result = re.finditer('fox',text)\n",
    "\n",
    "for match in result:\n",
    "    print(match)"
   ]
  },
  {
   "cell_type": "raw",
   "id": "10b40a9f",
   "metadata": {},
   "source": [
    "Question 17- Write a Python program to find the substrings within a string."
   ]
  },
  {
   "cell_type": "code",
   "execution_count": 120,
   "id": "d23d8a85",
   "metadata": {},
   "outputs": [],
   "source": [
    "text = 'Python exercises, PHP exercises, C# exercises'\n",
    "Pattern = 'exercises'\n",
    "\n",
    "for match in re.findall(pattern, text):\n",
    "    \n",
    "    \n",
    "    print('\"%s\"' % match)\n",
    "#print(result)"
   ]
  },
  {
   "cell_type": "code",
   "execution_count": 121,
   "id": "4f76cfbc",
   "metadata": {},
   "outputs": [
    {
     "name": "stdout",
     "output_type": "stream",
     "text": [
      "Found \"exercises\"\n",
      "Found \"exercises\"\n",
      "Found \"exercises\"\n"
     ]
    }
   ],
   "source": [
    "import re\n",
    "text = 'Python exercises, PHP exercises, C# exercises'\n",
    "pattern = 'exercises'\n",
    "for match in re.findall(pattern, text):\n",
    "    print('Found \"%s\"' % match)"
   ]
  },
  {
   "cell_type": "raw",
   "id": "2e27624c",
   "metadata": {},
   "source": [
    "Question 18- Write a Python program to find the occurrence and position of the substrings within a string."
   ]
  },
  {
   "cell_type": "code",
   "execution_count": 122,
   "id": "6fdd75d9",
   "metadata": {},
   "outputs": [
    {
     "name": "stdout",
     "output_type": "stream",
     "text": [
      "\"exercises\" at 7:16\n",
      "\"exercises\" at 22:31\n",
      "\"exercises\" at 36:45\n"
     ]
    }
   ],
   "source": [
    "text = 'Python exercises, PHP exercises, C# exercises'\n",
    "pattern = 'exercises'\n",
    "for match in re.finditer(pattern, text):\n",
    "    start = match.start()\n",
    "    end   = match.end()\n",
    "    print('\"%s\" at %d:%d' % (text[start:end], start, end))"
   ]
  },
  {
   "cell_type": "code",
   "execution_count": 123,
   "id": "e4c56136",
   "metadata": {},
   "outputs": [
    {
     "name": "stdout",
     "output_type": "stream",
     "text": [
      "Found \"exercises\" at 7:16\n",
      "Found \"exercises\" at 22:31\n",
      "Found \"exercises\" at 36:45\n"
     ]
    }
   ],
   "source": [
    "text = 'Python exercises, PHP exercises, C# exercises'\n",
    "pattern = 'exercises'\n",
    "for match in re.finditer(pattern, text):\n",
    "    s = match.start()\n",
    "    e = match.end()\n",
    "    print('Found \"%s\" at %d:%d' % (text[s:e], s, e))"
   ]
  },
  {
   "cell_type": "raw",
   "id": "fb6bad06",
   "metadata": {},
   "source": [
    "Question 19- Write a Python program to convert a date of yyyy-mm-dd format to dd-mm-yyyy format."
   ]
  },
  {
   "cell_type": "code",
   "execution_count": 148,
   "id": "21822f00",
   "metadata": {},
   "outputs": [
    {
     "name": "stdout",
     "output_type": "stream",
     "text": [
      "Original date format yyyy-mm-dd : 1993-03-06\n",
      "convert date format dd-mm-yyyy : 06-03-1993\n"
     ]
    }
   ],
   "source": [
    "string = '1993-03-06'\n",
    "\n",
    "result = re.sub('(\\d{4})-(\\d{1,2})-(\\d{1,2})','\\\\3-\\\\2-\\\\1',string)\n",
    "\n",
    "print('Original date format yyyy-mm-dd :', string)\n",
    "print('convert date format dd-mm-yyyy :', result)"
   ]
  },
  {
   "cell_type": "raw",
   "id": "fee0f58e",
   "metadata": {},
   "source": [
    "Question 20- Create a function in python to find all decimal numbers with a precision of 1 or 2 in a string. The use of the re.compile() method is mandatory."
   ]
  },
  {
   "cell_type": "code",
   "execution_count": 149,
   "id": "ede013bb",
   "metadata": {},
   "outputs": [
    {
     "name": "stdout",
     "output_type": "stream",
     "text": [
      "['32', '29', '3']\n"
     ]
    }
   ],
   "source": [
    "def find_all_decimal_numbers(data):\n",
    "    \n",
    "    patt = re.compile('\\d+')\n",
    "    result = patt.findall(data)\n",
    "    return result\n",
    "\n",
    "string = 'prashant is 32 year old and aniket is 29, the basic difference in between 3 year.'\n",
    "\n",
    "find_numbers = find_all_decimal_numbers(string)\n",
    "\n",
    "print(find_numbers)"
   ]
  },
  {
   "cell_type": "raw",
   "id": "15143fd7",
   "metadata": {},
   "source": [
    "Question 21- Write a Python program to separate and print the numbers and their position of a given string."
   ]
  },
  {
   "cell_type": "code",
   "execution_count": 157,
   "id": "a7b7338c",
   "metadata": {},
   "outputs": [
    {
     "name": "stdout",
     "output_type": "stream",
     "text": [
      "<re.Match object; span=(12, 14), match='32'>\n",
      "<re.Match object; span=(38, 40), match='29'>\n",
      "<re.Match object; span=(74, 75), match='3'>\n"
     ]
    }
   ],
   "source": [
    "string = 'prashant is 32 year old and aniket is 29, the basic difference in between 3 year.'\n",
    "\n",
    "for match in re.finditer('\\d+',string):\n",
    "    print(match)"
   ]
  },
  {
   "cell_type": "code",
   "execution_count": 159,
   "id": "5b8d1387",
   "metadata": {},
   "outputs": [
    {
     "name": "stdout",
     "output_type": "stream",
     "text": [
      "32 index number: 12\n",
      "29 index number: 38\n",
      "3 index number: 74\n"
     ]
    }
   ],
   "source": [
    "string ='prashant is 32 year old and aniket is 29, the basic difference in between 3 year.'\n",
    "\n",
    "for match in re.finditer('\\d+',string):\n",
    "    print(match.group(), end=' ')\n",
    "    print('index number:', match.start())"
   ]
  },
  {
   "cell_type": "raw",
   "id": "ce7e7bdb",
   "metadata": {},
   "source": [
    "Question 22- Write a regular expression in python program to extract maximum/largest numeric value from a string."
   ]
  },
  {
   "cell_type": "code",
   "execution_count": 166,
   "id": "452f18d2",
   "metadata": {},
   "outputs": [
    {
     "name": "stdout",
     "output_type": "stream",
     "text": [
      "max_number: 986\n",
      "max_number: 986\n"
     ]
    }
   ],
   "source": [
    "string = 'My marks in each semester are: 947, 896, 926, 524, 734, 986, 642'\n",
    "\n",
    "result = re.findall('\\d+', string)\n",
    "\n",
    "a = map(int,result)\n",
    "print('max_number:',max(a))\n",
    "print('max_number:',max(result))"
   ]
  },
  {
   "cell_type": "raw",
   "id": "a55561ce",
   "metadata": {},
   "source": [
    "Question 23- Create a function in python to insert spaces between words starting with capital letters."
   ]
  },
  {
   "cell_type": "code",
   "execution_count": 167,
   "id": "521cb6f6",
   "metadata": {},
   "outputs": [
    {
     "name": "stdout",
     "output_type": "stream",
     "text": [
      "Regular Expression Is An Important Topic In Python\n"
     ]
    }
   ],
   "source": [
    "\n",
    "\n",
    "def insert_spaces(data):\n",
    "    \n",
    "    pattern = r'(?<=\\D)(?=[A-Z])'\n",
    "    \n",
    "    replace = ' '\n",
    "    \n",
    "    result = re.sub(pattern, replace, data)\n",
    "    \n",
    "    return result\n",
    "\n",
    "\n",
    "string = 'RegularExpressionIsAnImportantTopicInPython'\n",
    "\n",
    "spaces = insert_spaces(string)\n",
    "\n",
    "print(spaces)"
   ]
  },
  {
   "cell_type": "code",
   "execution_count": 170,
   "id": "79b4065f",
   "metadata": {},
   "outputs": [
    {
     "name": "stdout",
     "output_type": "stream",
     "text": [
      "Regular Expression Is An Important Topic In Python\n"
     ]
    }
   ],
   "source": [
    "string = 'RegularExpressionIsAnImportantTopicInPython'\n",
    "\n",
    "spaces_2 = kkk(string)    #old function call\n",
    "\n",
    "print(spaces_2)"
   ]
  },
  {
   "cell_type": "raw",
   "id": "d85bb21c",
   "metadata": {},
   "source": [
    "Question 24- Python regex to find sequences of one upper case letter followed by lower case letters"
   ]
  },
  {
   "cell_type": "code",
   "execution_count": 176,
   "id": "f65ff4ca",
   "metadata": {},
   "outputs": [
    {
     "name": "stdout",
     "output_type": "stream",
     "text": [
      "['Re', 'Ex', 'Is', 'An', 'Im', 'To', 'In', 'Py']\n"
     ]
    }
   ],
   "source": [
    "string = 'RegularExpressionIsAnImportantTopicInPython'\n",
    "\n",
    "pattern = '(?=[A-Z]).[a-z]'\n",
    "\n",
    "result = re.findall(pattern, string)\n",
    "\n",
    "print(result)"
   ]
  },
  {
   "cell_type": "raw",
   "id": "843bb4f3",
   "metadata": {},
   "source": [
    "Question 25- Write a Python program to remove continuous duplicate words from Sentence using Regular Expression."
   ]
  },
  {
   "cell_type": "code",
   "execution_count": 179,
   "id": "ae63d3b5",
   "metadata": {},
   "outputs": [
    {
     "name": "stdout",
     "output_type": "stream",
     "text": [
      "Hello hello world\n"
     ]
    }
   ],
   "source": [
    "string = 'Hello hello hello world world'\n",
    "\n",
    "pattern = r'(\\w+)(\\s+\\1)+'    \n",
    "\n",
    "replace = r'\\1'\n",
    "\n",
    "match = re.sub(pattern, replace, string)\n",
    "\n",
    "print(match)"
   ]
  },
  {
   "cell_type": "raw",
   "id": "1f8711e4",
   "metadata": {},
   "source": [
    "Question 26-  Write a python program using RegEx to accept string ending with alphanumeric character."
   ]
  },
  {
   "cell_type": "code",
   "execution_count": 180,
   "id": "6152cba4",
   "metadata": {},
   "outputs": [
    {
     "name": "stdout",
     "output_type": "stream",
     "text": [
      "True\n"
     ]
    }
   ],
   "source": [
    "\n",
    "pattern  = r'^.*[a-zA-Z0-9]$'\n",
    "\n",
    "def checking(password):\n",
    "    pattern  = r'^.*[a-zA-Z0-9]$'\n",
    "    \n",
    "    return re.match(pattern, password) is not None\n",
    "   \n",
    "password_1 = 'prashant@123'\n",
    "\n",
    "password_2 = 'prashant@123'\n",
    "\n",
    "match = checking(password_2)\n",
    "\n",
    "print(match)"
   ]
  },
  {
   "cell_type": "raw",
   "id": "1c4aba01",
   "metadata": {},
   "source": [
    "Question 27-Write a python program using RegEx to extract the hashtags."
   ]
  },
  {
   "cell_type": "code",
   "execution_count": 183,
   "id": "a194988b",
   "metadata": {},
   "outputs": [
    {
     "name": "stdout",
     "output_type": "stream",
     "text": [
      "['#Doltiwal', '#xyzabc', '#Demonetization']\n"
     ]
    }
   ],
   "source": [
    "string =  \"\"\"RT @kapil_kausik: #Doltiwal I mean #xyzabc is \"hurt\" by #Demonetization as the same has rendered USELESS <ed><U+00A0><U+00BD><ed><U+00B1><U+0089> \"acquired funds\" No wo\"\"\"\n",
    "\n",
    "pattern = '#\\w+'\n",
    "\n",
    "match = re.findall(pattern,string)\n",
    "\n",
    "print(match)"
   ]
  },
  {
   "cell_type": "raw",
   "id": "e1beed09",
   "metadata": {},
   "source": [
    "Question 28- Write a python program using RegEx to remove <U+..> like symbols\n",
    "Check the below sample text, there are strange symbols something of the sort <U+..> all over the place. You need to come up with a general Regex expression that will cover all such symbols.\n"
   ]
  },
  {
   "cell_type": "code",
   "execution_count": 185,
   "id": "b028e5b4",
   "metadata": {},
   "outputs": [
    {
     "name": "stdout",
     "output_type": "stream",
     "text": [
      "@Jags123456 Bharat band on 28??<ed><ed>Those who  are protesting #demonetization  are all different party leaders\n"
     ]
    }
   ],
   "source": [
    "string =  \"@Jags123456 Bharat band on 28??<ed><U+00A0><U+00BD><ed><U+00B8><U+0082>Those who  are protesting #demonetization  are all different party leaders\"\n",
    "\n",
    "pattern = '<U\\+\\w+>'\n",
    "\n",
    "a = re.sub(pattern, '', string)\n",
    "\n",
    "print(a)"
   ]
  },
  {
   "cell_type": "raw",
   "id": "a2466810",
   "metadata": {},
   "source": [
    "Question 29- Write a python program to extract dates from the text stored in the text file."
   ]
  },
  {
   "cell_type": "code",
   "execution_count": 191,
   "id": "bfac04a0",
   "metadata": {},
   "outputs": [
    {
     "name": "stdout",
     "output_type": "stream",
     "text": [
      "['12-09-1992', '15-12-1999']\n"
     ]
    }
   ],
   "source": [
    "# text = 'Ron was born on 12-09-1992 and he was admitted to school 15-12-1999.'\n",
    "\n",
    "pattern = '\\d{1,2}-\\d{1,2}-\\d{4}'\n",
    "\n",
    "with open ('sample_text4.txt') as file:\n",
    "    for line in file:\n",
    "        abc = re.findall(pattern,line)\n",
    "        \n",
    "        print(abc)"
   ]
  },
  {
   "cell_type": "raw",
   "id": "f42a1cc6",
   "metadata": {},
   "source": [
    "Question 30 -Create a function in python to remove all words from a string of length between 2 and 4.\n",
    "The use of the re.compile() method is mandatory.\n"
   ]
  },
  {
   "cell_type": "code",
   "execution_count": 196,
   "id": "01dfe6ca",
   "metadata": {},
   "outputs": [
    {
     "name": "stdout",
     "output_type": "stream",
     "text": [
      "following example creates ArrayList a capacity elements. 4 elements added ArrayList ArrayList trimmed accordingly.\n"
     ]
    }
   ],
   "source": [
    "def remove_words(text):\n",
    "    patt = re.compile(r'\\b\\w{2,4}\\b\\s')\n",
    "    new_text = patt.sub('',text)\n",
    "    return new_text\n",
    "\n",
    "string = \"The following example creates an ArrayList with a capacity of 50 elements. 4 elements are then added to the ArrayList and the ArrayList is trimmed accordingly.\"\n",
    "\n",
    "match = remove_words(string)\n",
    "\n",
    "print(match)"
   ]
  },
  {
   "cell_type": "code",
   "execution_count": null,
   "id": "7ad1cbf6",
   "metadata": {},
   "outputs": [],
   "source": []
  },
  {
   "cell_type": "code",
   "execution_count": null,
   "id": "9aa7f1e8",
   "metadata": {},
   "outputs": [],
   "source": []
  }
 ],
 "metadata": {
  "kernelspec": {
   "display_name": "Python 3 (ipykernel)",
   "language": "python",
   "name": "python3"
  },
  "language_info": {
   "codemirror_mode": {
    "name": "ipython",
    "version": 3
   },
   "file_extension": ".py",
   "mimetype": "text/x-python",
   "name": "python",
   "nbconvert_exporter": "python",
   "pygments_lexer": "ipython3",
   "version": "3.9.13"
  }
 },
 "nbformat": 4,
 "nbformat_minor": 5
}
